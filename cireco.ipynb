{
 "cells": [
  {
   "cell_type": "code",
   "execution_count": 1,
   "id": "145e77cc",
   "metadata": {},
   "outputs": [
    {
     "name": "stderr",
     "output_type": "stream",
     "text": [
      "2023-02-27 19:14:58.281378: I tensorflow/core/platform/cpu_feature_guard.cc:193] This TensorFlow binary is optimized with oneAPI Deep Neural Network Library (oneDNN) to use the following CPU instructions in performance-critical operations:  AVX2 FMA\n",
      "To enable them in other operations, rebuild TensorFlow with the appropriate compiler flags.\n",
      "2023-02-27 19:15:00.176876: W tensorflow/compiler/xla/stream_executor/platform/default/dso_loader.cc:64] Could not load dynamic library 'libnvinfer.so.7'; dlerror: libnvinfer.so.7: cannot open shared object file: No such file or directory; LD_LIBRARY_PATH: /usr/local/cuda/lib64:/usr/local/cuda-11.2/lib64:\n",
      "2023-02-27 19:15:00.177087: W tensorflow/compiler/xla/stream_executor/platform/default/dso_loader.cc:64] Could not load dynamic library 'libnvinfer_plugin.so.7'; dlerror: libnvinfer_plugin.so.7: cannot open shared object file: No such file or directory; LD_LIBRARY_PATH: /usr/local/cuda/lib64:/usr/local/cuda-11.2/lib64:\n",
      "2023-02-27 19:15:00.177101: W tensorflow/compiler/tf2tensorrt/utils/py_utils.cc:38] TF-TRT Warning: Cannot dlopen some TensorRT libraries. If you would like to use Nvidia GPU with TensorRT, please make sure the missing libraries mentioned above are installed properly.\n"
     ]
    }
   ],
   "source": [
    "from transformers import AutoTokenizer, TFAutoModelForSequenceClassification, AdamWeightDecay\n",
    "import pandas as pd\n",
    "import numpy as np\n",
    "import tensorflow as tf\n",
    "from tqdm import tqdm\n",
    "import pickle\n",
    "from sklearn.metrics import confusion_matrix, classification_report\n",
    "import seaborn as sns\n",
    "import matplotlib.pyplot as plt\n",
    "from keras.utils import plot_model\n"
   ]
  },
  {
   "cell_type": "markdown",
   "id": "1e6be31a",
   "metadata": {},
   "source": [
    "# Read Data"
   ]
  },
  {
   "cell_type": "code",
   "execution_count": 2,
   "id": "0ce702f0",
   "metadata": {},
   "outputs": [],
   "source": [
    "import random\n",
    "import json\n",
    "\n",
    "\n",
    "def cirecoDataset(filename, shuffle, sep_token=' '):\n",
    "    content, labels = [], []\n",
    "    x = open(filename).readlines()\n",
    "        \n",
    "    if shuffle:\n",
    "        random.shuffle(x)\n",
    "        \n",
    "    for line in x:\n",
    "        instance = json.loads(line)\n",
    "            \n",
    "        if len(instance[\"Correct Answers\"]) == 1:\n",
    "            choices = instance[\"Choices\"]\n",
    "            context = sep_token.join([instance[\"Question\"], \"target: \" + instance[\"Target\"], \n",
    "                                    \"context: \" + \" <utt> \".join(instance[\"Dialogue\"])])\n",
    "            l = instance[\"Correct Answers\"][0]\n",
    "\n",
    "            for k, c in enumerate(choices):\n",
    "                content.append(\"{} ; answer: {}\".format(context, c))\n",
    "                if k == l:\n",
    "                    labels.append(1)\n",
    "                else:\n",
    "                    labels.append(0)\n",
    "                \n",
    "    return content, labels"
   ]
  },
  {
   "cell_type": "code",
   "execution_count": 3,
   "id": "44d7b575",
   "metadata": {},
   "outputs": [
    {
     "data": {
      "text/html": [
       "<div>\n",
       "<style scoped>\n",
       "    .dataframe tbody tr th:only-of-type {\n",
       "        vertical-align: middle;\n",
       "    }\n",
       "\n",
       "    .dataframe tbody tr th {\n",
       "        vertical-align: top;\n",
       "    }\n",
       "\n",
       "    .dataframe thead th {\n",
       "        text-align: right;\n",
       "    }\n",
       "</style>\n",
       "<table border=\"1\" class=\"dataframe\">\n",
       "  <thead>\n",
       "    <tr style=\"text-align: right;\">\n",
       "      <th></th>\n",
       "      <th>ID</th>\n",
       "      <th>Dialogue</th>\n",
       "      <th>Target</th>\n",
       "      <th>Question</th>\n",
       "      <th>Choices</th>\n",
       "      <th>Human Written Answer</th>\n",
       "      <th>Correct Answers</th>\n",
       "    </tr>\n",
       "  </thead>\n",
       "  <tbody>\n",
       "    <tr>\n",
       "      <th>0</th>\n",
       "      <td>dream-0004</td>\n",
       "      <td>[A: : Dad, what will we have for dinner?, B: :...</td>\n",
       "      <td>I don't know. Maybe fried fish, chicken soup a...</td>\n",
       "      <td>What is or could be the cause of target?</td>\n",
       "      <td>[Tom's father is making dinner for everyone to...</td>\n",
       "      <td>[2]</td>\n",
       "      <td>[2]</td>\n",
       "    </tr>\n",
       "    <tr>\n",
       "      <th>1</th>\n",
       "      <td>dream-0004</td>\n",
       "      <td>[A: : Dad, what will we have for dinner?, B: :...</td>\n",
       "      <td>I don't know. Maybe fried fish, chicken soup a...</td>\n",
       "      <td>What subsequent event happens or could happen ...</td>\n",
       "      <td>[The speaker expresses he will have fried fish...</td>\n",
       "      <td>[3]</td>\n",
       "      <td>[3]</td>\n",
       "    </tr>\n",
       "    <tr>\n",
       "      <th>2</th>\n",
       "      <td>dream-0004</td>\n",
       "      <td>[A: : Dad, what will we have for dinner?, B: :...</td>\n",
       "      <td>I don't know. Maybe fried fish, chicken soup a...</td>\n",
       "      <td>What is or could be the prerequisite of target?</td>\n",
       "      <td>[It was dinner time for tom and his mom., Tom ...</td>\n",
       "      <td>[4]</td>\n",
       "      <td>[4]</td>\n",
       "    </tr>\n",
       "    <tr>\n",
       "      <th>3</th>\n",
       "      <td>dream-0004</td>\n",
       "      <td>[A: : Dad, what will we have for dinner?, B: :...</td>\n",
       "      <td>I'm sorry. But that is the only thing I can co...</td>\n",
       "      <td>What is or could be the motivation of target?</td>\n",
       "      <td>[Tom's father feels helpless because he cannot...</td>\n",
       "      <td>[1]</td>\n",
       "      <td>[1, 3]</td>\n",
       "    </tr>\n",
       "    <tr>\n",
       "      <th>4</th>\n",
       "      <td>dream-0004</td>\n",
       "      <td>[A: : Dad, what will we have for dinner?, B: :...</td>\n",
       "      <td>I'd like to go to McDonald's this time.</td>\n",
       "      <td>What is or could be the cause of target?</td>\n",
       "      <td>[Tom is bored of eating the same dishes and wa...</td>\n",
       "      <td>[0]</td>\n",
       "      <td>[0]</td>\n",
       "    </tr>\n",
       "    <tr>\n",
       "      <th>...</th>\n",
       "      <td>...</td>\n",
       "      <td>...</td>\n",
       "      <td>...</td>\n",
       "      <td>...</td>\n",
       "      <td>...</td>\n",
       "      <td>...</td>\n",
       "      <td>...</td>\n",
       "    </tr>\n",
       "    <tr>\n",
       "      <th>31413</th>\n",
       "      <td>mutual-0763</td>\n",
       "      <td>[A: hello , betty !, A: it 's me , tim !, A: a...</td>\n",
       "      <td>i have invited some of my friends to dinner at...</td>\n",
       "      <td>What is or could be the motivation of target?</td>\n",
       "      <td>[The speaker is excited to have lunch with all...</td>\n",
       "      <td>[1]</td>\n",
       "      <td>[1, 3]</td>\n",
       "    </tr>\n",
       "    <tr>\n",
       "      <th>31414</th>\n",
       "      <td>daily-dialogue-2309</td>\n",
       "      <td>[A: I'm checking out in about half an hour ., ...</td>\n",
       "      <td>Great ! As you know however , the day in New Y...</td>\n",
       "      <td>What is or could be the prerequisite of target?</td>\n",
       "      <td>[The speaker has come to new york for explorin...</td>\n",
       "      <td>[0]</td>\n",
       "      <td>[0]</td>\n",
       "    </tr>\n",
       "    <tr>\n",
       "      <th>31415</th>\n",
       "      <td>daily-dialogue-2309</td>\n",
       "      <td>[A: I'm checking out in about half an hour ., ...</td>\n",
       "      <td>Sir , our storage facility is merely $ 5 an ho...</td>\n",
       "      <td>What is or could be the cause of target?</td>\n",
       "      <td>[The listener has to explore new york more but...</td>\n",
       "      <td>[1]</td>\n",
       "      <td>[1]</td>\n",
       "    </tr>\n",
       "    <tr>\n",
       "      <th>31416</th>\n",
       "      <td>daily-dialogue-2309</td>\n",
       "      <td>[A: I'm checking out in about half an hour ., ...</td>\n",
       "      <td>Unfortunately , it isn't . VISA or MasterCard ...</td>\n",
       "      <td>What is or could be the prerequisite of target?</td>\n",
       "      <td>[The listener is checking out from the hotel b...</td>\n",
       "      <td>[0]</td>\n",
       "      <td>[0]</td>\n",
       "    </tr>\n",
       "    <tr>\n",
       "      <th>31417</th>\n",
       "      <td>daily-dialogue-3920</td>\n",
       "      <td>[A: Will you be done doing my hair soon ?, B: ...</td>\n",
       "      <td>Thanks for doing such a good job .</td>\n",
       "      <td>What is or could be the cause of target?</td>\n",
       "      <td>[The listener has given a new look to the spea...</td>\n",
       "      <td>[4]</td>\n",
       "      <td>[4]</td>\n",
       "    </tr>\n",
       "  </tbody>\n",
       "</table>\n",
       "<p>31418 rows × 7 columns</p>\n",
       "</div>"
      ],
      "text/plain": [
       "                        ID                                           Dialogue  \\\n",
       "0               dream-0004  [A: : Dad, what will we have for dinner?, B: :...   \n",
       "1               dream-0004  [A: : Dad, what will we have for dinner?, B: :...   \n",
       "2               dream-0004  [A: : Dad, what will we have for dinner?, B: :...   \n",
       "3               dream-0004  [A: : Dad, what will we have for dinner?, B: :...   \n",
       "4               dream-0004  [A: : Dad, what will we have for dinner?, B: :...   \n",
       "...                    ...                                                ...   \n",
       "31413          mutual-0763  [A: hello , betty !, A: it 's me , tim !, A: a...   \n",
       "31414  daily-dialogue-2309  [A: I'm checking out in about half an hour ., ...   \n",
       "31415  daily-dialogue-2309  [A: I'm checking out in about half an hour ., ...   \n",
       "31416  daily-dialogue-2309  [A: I'm checking out in about half an hour ., ...   \n",
       "31417  daily-dialogue-3920  [A: Will you be done doing my hair soon ?, B: ...   \n",
       "\n",
       "                                                  Target  \\\n",
       "0      I don't know. Maybe fried fish, chicken soup a...   \n",
       "1      I don't know. Maybe fried fish, chicken soup a...   \n",
       "2      I don't know. Maybe fried fish, chicken soup a...   \n",
       "3      I'm sorry. But that is the only thing I can co...   \n",
       "4                I'd like to go to McDonald's this time.   \n",
       "...                                                  ...   \n",
       "31413  i have invited some of my friends to dinner at...   \n",
       "31414  Great ! As you know however , the day in New Y...   \n",
       "31415  Sir , our storage facility is merely $ 5 an ho...   \n",
       "31416  Unfortunately , it isn't . VISA or MasterCard ...   \n",
       "31417                 Thanks for doing such a good job .   \n",
       "\n",
       "                                                Question  \\\n",
       "0               What is or could be the cause of target?   \n",
       "1      What subsequent event happens or could happen ...   \n",
       "2        What is or could be the prerequisite of target?   \n",
       "3          What is or could be the motivation of target?   \n",
       "4               What is or could be the cause of target?   \n",
       "...                                                  ...   \n",
       "31413      What is or could be the motivation of target?   \n",
       "31414    What is or could be the prerequisite of target?   \n",
       "31415           What is or could be the cause of target?   \n",
       "31416    What is or could be the prerequisite of target?   \n",
       "31417           What is or could be the cause of target?   \n",
       "\n",
       "                                                 Choices Human Written Answer  \\\n",
       "0      [Tom's father is making dinner for everyone to...                  [2]   \n",
       "1      [The speaker expresses he will have fried fish...                  [3]   \n",
       "2      [It was dinner time for tom and his mom., Tom ...                  [4]   \n",
       "3      [Tom's father feels helpless because he cannot...                  [1]   \n",
       "4      [Tom is bored of eating the same dishes and wa...                  [0]   \n",
       "...                                                  ...                  ...   \n",
       "31413  [The speaker is excited to have lunch with all...                  [1]   \n",
       "31414  [The speaker has come to new york for explorin...                  [0]   \n",
       "31415  [The listener has to explore new york more but...                  [1]   \n",
       "31416  [The listener is checking out from the hotel b...                  [0]   \n",
       "31417  [The listener has given a new look to the spea...                  [4]   \n",
       "\n",
       "      Correct Answers  \n",
       "0                 [2]  \n",
       "1                 [3]  \n",
       "2                 [4]  \n",
       "3              [1, 3]  \n",
       "4                 [0]  \n",
       "...               ...  \n",
       "31413          [1, 3]  \n",
       "31414             [0]  \n",
       "31415             [1]  \n",
       "31416             [0]  \n",
       "31417             [4]  \n",
       "\n",
       "[31418 rows x 7 columns]"
      ]
     },
     "execution_count": 3,
     "metadata": {},
     "output_type": "execute_result"
    }
   ],
   "source": [
    "df = pd.read_json('./data/cicero/train.json', lines=True)\n",
    "df"
   ]
  },
  {
   "cell_type": "markdown",
   "id": "46a1ea94",
   "metadata": {},
   "source": [
    "# train model"
   ]
  },
  {
   "cell_type": "code",
   "execution_count": 4,
   "id": "c395d41b",
   "metadata": {},
   "outputs": [],
   "source": [
    "train_data, train_label = cirecoDataset('./data/cicero/train.json', True)\n",
    "test_data, test_label = cirecoDataset('./data/cicero/test.json', False)\n"
   ]
  },
  {
   "cell_type": "markdown",
   "id": "309323cc",
   "metadata": {},
   "source": [
    "### data balancing"
   ]
  },
  {
   "cell_type": "code",
   "execution_count": 5,
   "id": "12cbc2f7",
   "metadata": {},
   "outputs": [
    {
     "data": {
      "image/png": "[encoded data removed]",
      "text/plain": [
       "<Figure size 640x480 with 1 Axes>"
      ]
     },
     "metadata": {},
     "output_type": "display_data"
    }
   ],
   "source": [
    "values, counts = np.unique(train_label, return_counts=True)\n",
    "plt.bar(values, height=counts)\n",
    "plt.xticks(values, ['0','1']);\n",
    "plt.savefig('./imbalace_cierco.jpg')"
   ]
  },
  {
   "cell_type": "code",
   "execution_count": 6,
   "id": "05dd987f",
   "metadata": {},
   "outputs": [],
   "source": [
    "flag = False\n",
    "new_train_data = list()\n",
    "new_train_label = list()\n",
    "\n",
    "for i in range(len(train_label)):\n",
    "    if train_label[i] == 0 and flag == True:\n",
    "        new_train_data.append(train_data[i])\n",
    "        new_train_label.append(train_label[i])\n",
    "        flag = False\n",
    "    elif train_label[i] == 1:\n",
    "        new_train_data.append(train_data[i])\n",
    "        new_train_label.append(train_label[i])\n",
    "        flag = True"
   ]
  },
  {
   "cell_type": "code",
   "execution_count": 7,
   "id": "550e03e4",
   "metadata": {},
   "outputs": [
    {
     "data": {
      "image/png": "[encoded data removed]",
      "text/plain": [
       "<Figure size 640x480 with 1 Axes>"
      ]
     },
     "metadata": {},
     "output_type": "display_data"
    }
   ],
   "source": [
    "values, counts = np.unique(new_train_label, return_counts=True)\n",
    "plt.bar(values, height=counts)\n",
    "plt.xticks(values, ['0','1']);\n",
    "plt.savefig('./balance_cierco.jpg')"
   ]
  },
  {
   "cell_type": "code",
   "execution_count": 8,
   "id": "732f2bea",
   "metadata": {},
   "outputs": [],
   "source": [
    "train_data = new_train_data\n",
    "train_label = new_train_label"
   ]
  },
  {
   "cell_type": "code",
   "execution_count": 9,
   "id": "4e9999dd",
   "metadata": {},
   "outputs": [],
   "source": [
    "def tokenize(df):\n",
    "    input_ids =  []\n",
    "    attention_masks =  []\n",
    "    for i, text in enumerate(df):\n",
    "        tokens = tokenizer.encode_plus(text, max_length=MAX_LEN,\n",
    "                                   truncation=True, padding='max_length',\n",
    "                                   add_special_tokens=True, return_attention_mask=True,\n",
    "                                   return_token_type_ids=False, return_tensors='tf')          \n",
    "        input_ids.append(np.asarray(tokens[\"input_ids\"]).reshape(MAX_LEN,))\n",
    "        attention_masks.append(np.asarray(tokens[\"attention_mask\"]).reshape(MAX_LEN,))\n",
    "    return (np.asarray(input_ids), np.asarray(attention_masks))\n",
    "\n",
    "\n",
    "def indices_to_one_hot(data, nb_classes):\n",
    "    targets = np.array(data).reshape(-1)\n",
    "    return np.eye(nb_classes)[targets]"
   ]
  },
  {
   "cell_type": "code",
   "execution_count": 10,
   "id": "ca7cc8f9",
   "metadata": {},
   "outputs": [
    {
     "name": "stderr",
     "output_type": "stream",
     "text": [
      "2023-02-27 19:15:33.358667: I tensorflow/compiler/xla/stream_executor/cuda/cuda_gpu_executor.cc:981] successful NUMA node read from SysFS had negative value (-1), but there must be at least one NUMA node, so returning NUMA node zero\n",
      "2023-02-27 19:15:33.388654: I tensorflow/compiler/xla/stream_executor/cuda/cuda_gpu_executor.cc:981] successful NUMA node read from SysFS had negative value (-1), but there must be at least one NUMA node, so returning NUMA node zero\n",
      "2023-02-27 19:15:33.389873: I tensorflow/compiler/xla/stream_executor/cuda/cuda_gpu_executor.cc:981] successful NUMA node read from SysFS had negative value (-1), but there must be at least one NUMA node, so returning NUMA node zero\n",
      "2023-02-27 19:15:33.391027: I tensorflow/core/platform/cpu_feature_guard.cc:193] This TensorFlow binary is optimized with oneAPI Deep Neural Network Library (oneDNN) to use the following CPU instructions in performance-critical operations:  AVX2 FMA\n",
      "To enable them in other operations, rebuild TensorFlow with the appropriate compiler flags.\n",
      "2023-02-27 19:15:33.391619: I tensorflow/compiler/xla/stream_executor/cuda/cuda_gpu_executor.cc:981] successful NUMA node read from SysFS had negative value (-1), but there must be at least one NUMA node, so returning NUMA node zero\n",
      "2023-02-27 19:15:33.392925: I tensorflow/compiler/xla/stream_executor/cuda/cuda_gpu_executor.cc:981] successful NUMA node read from SysFS had negative value (-1), but there must be at least one NUMA node, so returning NUMA node zero\n",
      "2023-02-27 19:15:33.394200: I tensorflow/compiler/xla/stream_executor/cuda/cuda_gpu_executor.cc:981] successful NUMA node read from SysFS had negative value (-1), but there must be at least one NUMA node, so returning NUMA node zero\n",
      "2023-02-27 19:15:34.117084: I tensorflow/compiler/xla/stream_executor/cuda/cuda_gpu_executor.cc:981] successful NUMA node read from SysFS had negative value (-1), but there must be at least one NUMA node, so returning NUMA node zero\n",
      "2023-02-27 19:15:34.117740: I tensorflow/compiler/xla/stream_executor/cuda/cuda_gpu_executor.cc:981] successful NUMA node read from SysFS had negative value (-1), but there must be at least one NUMA node, so returning NUMA node zero\n",
      "2023-02-27 19:15:34.118278: I tensorflow/compiler/xla/stream_executor/cuda/cuda_gpu_executor.cc:981] successful NUMA node read from SysFS had negative value (-1), but there must be at least one NUMA node, so returning NUMA node zero\n",
      "2023-02-27 19:15:34.118793: I tensorflow/core/common_runtime/gpu/gpu_device.cc:1613] Created device /job:localhost/replica:0/task:0/device:GPU:0 with 3380 MB memory:  -> device: 0, name: GeForce 930MX, pci bus id: 0000:01:00.0, compute capability: 5.0\n",
      "All model checkpoint layers were used when initializing TFDebertaForSequenceClassification.\n",
      "\n",
      "Some layers of TFDebertaForSequenceClassification were not initialized from the model checkpoint at microsoft/deberta-base and are newly initialized: ['cls_dropout', 'classifier', 'pooler']\n",
      "You should probably TRAIN this model on a down-stream task to be able to use it for predictions and inference.\n"
     ]
    }
   ],
   "source": [
    "MDL_PATH = \"microsoft/deberta-base\"\n",
    "MAX_LEN = 40\n",
    "NUM_EPOCHS = 10\n",
    "batch_size=8\n",
    "LR = 1e-5\n",
    "tokenizer = AutoTokenizer.from_pretrained(MDL_PATH)\n",
    "deberta = TFAutoModelForSequenceClassification.from_pretrained(MDL_PATH)"
   ]
  },
  {
   "cell_type": "code",
   "execution_count": 11,
   "id": "fb06088c",
   "metadata": {},
   "outputs": [],
   "source": [
    "train_input_ids, train_attention_masks = tokenize(train_data)\n",
    "y_train = indices_to_one_hot(train_label, 2)\n"
   ]
  },
  {
   "cell_type": "markdown",
   "id": "5b046eee",
   "metadata": {},
   "source": [
    "# create model"
   ]
  },
  {
   "cell_type": "code",
   "execution_count": 12,
   "id": "7fc7ca1d",
   "metadata": {},
   "outputs": [
    {
     "name": "stdout",
     "output_type": "stream",
     "text": [
      "WARNING:tensorflow:From /home/roshan/.local/lib/python3.8/site-packages/tensorflow/python/autograph/pyct/static_analysis/liveness.py:83: Analyzer.lamba_check (from tensorflow.python.autograph.pyct.static_analysis.liveness) is deprecated and will be removed after 2023-09-23.\n",
      "Instructions for updating:\n",
      "Lambda fuctions will be no more assumed to be used in the statement where they are used, or at least in the same block. https://github.com/tensorflow/tensorflow/issues/56089\n",
      "Model: \"model\"\n",
      "__________________________________________________________________________________________________\n",
      " Layer (type)                   Output Shape         Param #     Connected to                     \n",
      "==================================================================================================\n",
      " input_ids (InputLayer)         [(None, 40)]         0           []                               \n",
      "                                                                                                  \n",
      " attention_mask (InputLayer)    [(None, 40)]         0           []                               \n",
      "                                                                                                  \n",
      " tf_deberta_for_sequence_classi  TFSequenceClassifie  139193858  ['input_ids[0][0]',              \n",
      " fication (TFDebertaForSequence  rOutput(loss=None,               'attention_mask[0][0]']         \n",
      " Classification)                logits=(None, 2),                                                 \n",
      "                                 hidden_states=None                                               \n",
      "                                , attentions=None)                                                \n",
      "                                                                                                  \n",
      " h1 (Dense)                     (None, 750)          2250        ['tf_deberta_for_sequence_classif\n",
      "                                                                 ication[0][0]']                  \n",
      "                                                                                                  \n",
      " dropout (Dropout)              (None, 750)          0           ['h1[0][0]']                     \n",
      "                                                                                                  \n",
      " h2 (Dense)                     (None, 150)          112650      ['dropout[0][0]']                \n",
      "                                                                                                  \n",
      " outputs (Dense)                (None, 2)            302         ['h2[0][0]']                     \n",
      "                                                                                                  \n",
      "==================================================================================================\n",
      "Total params: 139,309,060\n",
      "Trainable params: 115,202\n",
      "Non-trainable params: 139,193,858\n",
      "__________________________________________________________________________________________________\n"
     ]
    }
   ],
   "source": [
    "input_ids = tf.keras.layers.Input(shape=(MAX_LEN,), name='input_ids', dtype='int32')\n",
    "mask = tf.keras.layers.Input(shape=(MAX_LEN,), name='attention_mask', dtype='int32')\n",
    "\n",
    "x = deberta(input_ids, attention_mask=mask)[0]\n",
    "\n",
    "x = tf.keras.layers.Dense(750, activation='relu', name='h1')(x)\n",
    "x = tf.keras.layers.Dropout(0.1)(x)\n",
    "x = tf.keras.layers.Dense(150, activation='relu', name='h2')(x)\n",
    "\n",
    "y = tf.keras.layers.Dense(2, name='outputs')(x)\n",
    "\n",
    "model = tf.keras.Model(inputs=[input_ids, mask], outputs=y)\n",
    "model.layers[2].trainable = False\n",
    "model.summary()\n"
   ]
  },
  {
   "cell_type": "code",
   "execution_count": 13,
   "id": "33fd8657",
   "metadata": {},
   "outputs": [
    {
     "name": "stdout",
     "output_type": "stream",
     "text": [
      "huggingface/tokenizers: The current process just got forked, after parallelism has already been used. Disabling parallelism to avoid deadlocks...\n",
      "To disable this warning, you can either:\n",
      "\t- Avoid using `tokenizers` before the fork if possible\n",
      "\t- Explicitly set the environment variable TOKENIZERS_PARALLELISM=(true | false)\n",
      "huggingface/tokenizers: The current process just got forked, after parallelism has already been used. Disabling parallelism to avoid deadlocks...\n",
      "To disable this warning, you can either:\n",
      "\t- Avoid using `tokenizers` before the fork if possible\n",
      "\t- Explicitly set the environment variable TOKENIZERS_PARALLELISM=(true | false)\n"
     ]
    },
    {
     "data": {
      "image/png": "[encoded data removed]",
      "text/plain": [
       "<IPython.core.display.Image object>"
      ]
     },
     "execution_count": 13,
     "metadata": {},
     "output_type": "execute_result"
    }
   ],
   "source": [
    "plot_model(model, to_file='./cireco_model.png')"
   ]
  },
  {
   "cell_type": "code",
   "execution_count": 14,
   "id": "ac00bbe3",
   "metadata": {},
   "outputs": [],
   "source": [
    "Metrics = [\n",
    "    tf.keras.metrics.BinaryAccuracy(name='accuracy'),\n",
    "    tf.keras.metrics.Precision(name='percision'),\n",
    "    tf.keras.metrics.Recall(name='recall')\n",
    "]\n",
    "model.compile(optimizer = tf.keras.optimizers.Adam(learning_rate=LR), loss = \"mse\", metrics=Metrics)"
   ]
  },
  {
   "cell_type": "code",
   "execution_count": 15,
   "id": "f3185ed7",
   "metadata": {},
   "outputs": [
    {
     "name": "stdout",
     "output_type": "stream",
     "text": [
      "Epoch 1/5\n",
      "WARNING:tensorflow:From /usr/local/lib/python3.8/dist-packages/transformers/models/deberta/modeling_tf_deberta.py:122: Bernoulli.__init__ (from tensorflow.python.ops.distributions.bernoulli) is deprecated and will be removed after 2019-01-01.\n",
      "Instructions for updating:\n",
      "The TensorFlow Distributions library has moved to TensorFlow Probability (https://github.com/tensorflow/probability). You should update all references to use `tfp.distributions` instead of `tf.distributions`.\n",
      "WARNING:tensorflow:From /home/roshan/.local/lib/python3.8/site-packages/tensorflow/python/ops/distributions/bernoulli.py:86: Distribution.__init__ (from tensorflow.python.ops.distributions.distribution) is deprecated and will be removed after 2019-01-01.\n",
      "Instructions for updating:\n",
      "The TensorFlow Distributions library has moved to TensorFlow Probability (https://github.com/tensorflow/probability). You should update all references to use `tfp.distributions` instead of `tf.distributions`.\n"
     ]
    },
    {
     "name": "stderr",
     "output_type": "stream",
     "text": [
      "\n",
      "KeyboardInterrupt\n",
      "\n"
     ]
    }
   ],
   "source": [
    "history = model.fit((train_input_ids, train_attention_masks), \n",
    "                    y_train,\n",
    "                    batch_size = 100,\n",
    "                    epochs=5)\n"
   ]
  },
  {
   "cell_type": "code",
   "execution_count": null,
   "id": "4ec42e55",
   "metadata": {},
   "outputs": [],
   "source": [
    "# save model\n",
    "model.save('./model/my_model.h5')"
   ]
  },
  {
   "cell_type": "code",
   "execution_count": 16,
   "id": "9512344a",
   "metadata": {},
   "outputs": [
    {
     "name": "stdout",
     "output_type": "stream",
     "text": [
      "WARNING:tensorflow:Error in loading the saved optimizer state. As a result, your model is starting with a freshly initialized optimizer.\n"
     ]
    }
   ],
   "source": [
    "from tensorflow.keras.models import load_model\n",
    "from keras.utils import CustomObjectScope\n",
    "import transformers\n",
    "\n",
    "\n",
    "model = load_model('./model/my_model.h5' , custom_objects={\"TFDebertaForSequenceClassification\": transformers.TFDebertaForSequenceClassification})"
   ]
  },
  {
   "cell_type": "code",
   "execution_count": 18,
   "id": "721c6c48",
   "metadata": {},
   "outputs": [],
   "source": [
    "test_input_ids, test_attention_masks = tokenize(test_data)\n",
    "y_test = indices_to_one_hot(test_label, 2)\n"
   ]
  },
  {
   "cell_type": "code",
   "execution_count": 19,
   "id": "017dfeb6",
   "metadata": {},
   "outputs": [
    {
     "name": "stdout",
     "output_type": "stream",
     "text": [
      "1417/1417 [==============================] - 1097s 769ms/step\n"
     ]
    }
   ],
   "source": [
    "test_preds = model.predict((np.asarray(test_input_ids),\n",
    "                            np.asarray(test_attention_masks)))\n"
   ]
  },
  {
   "cell_type": "code",
   "execution_count": 20,
   "id": "1641cd50",
   "metadata": {
    "scrolled": false
   },
   "outputs": [],
   "source": [
    "predictions = list()\n",
    "for i in test_preds:\n",
    "    predictions.append(np.argmax(i))\n",
    "new_y_test = list()\n",
    "for i in y_test:\n",
    "    new_y_test.append(np.argmax(i))\n"
   ]
  },
  {
   "cell_type": "code",
   "execution_count": 21,
   "id": "5050f738",
   "metadata": {},
   "outputs": [
    {
     "data": {
      "image/png": "[encoded data removed]",
      "text/plain": [
       "<Figure size 640x480 with 2 Axes>"
      ]
     },
     "metadata": {},
     "output_type": "display_data"
    },
    {
     "name": "stdout",
     "output_type": "stream",
     "text": [
      "              precision    recall  f1-score   support\n",
      "\n",
      "           0       0.80      1.00      0.89     36256\n",
      "           1       0.00      0.00      0.00      9064\n",
      "\n",
      "    accuracy                           0.80     45320\n",
      "   macro avg       0.40      0.50      0.44     45320\n",
      "weighted avg       0.64      0.80      0.71     45320\n",
      "\n"
     ]
    },
    {
     "name": "stderr",
     "output_type": "stream",
     "text": [
      "/home/roshan/.local/lib/python3.8/site-packages/sklearn/metrics/_classification.py:1334: UndefinedMetricWarning: Precision and F-score are ill-defined and being set to 0.0 in labels with no predicted samples. Use `zero_division` parameter to control this behavior.\n",
      "  _warn_prf(average, modifier, msg_start, len(result))\n",
      "/home/roshan/.local/lib/python3.8/site-packages/sklearn/metrics/_classification.py:1334: UndefinedMetricWarning: Precision and F-score are ill-defined and being set to 0.0 in labels with no predicted samples. Use `zero_division` parameter to control this behavior.\n",
      "  _warn_prf(average, modifier, msg_start, len(result))\n",
      "/home/roshan/.local/lib/python3.8/site-packages/sklearn/metrics/_classification.py:1334: UndefinedMetricWarning: Precision and F-score are ill-defined and being set to 0.0 in labels with no predicted samples. Use `zero_division` parameter to control this behavior.\n",
      "  _warn_prf(average, modifier, msg_start, len(result))\n"
     ]
    }
   ],
   "source": [
    "confusion = confusion_matrix(new_y_test, predictions)\n",
    "\n",
    "# plot confusion matrix\n",
    "sns.set(font_scale=1.0)\n",
    "labels = [0, 1]\n",
    "ax = sns.heatmap(confusion, annot=True, annot_kws={\"size\": 11}, fmt='d', vmin = 0, cmap='Blues', yticklabels=labels, xticklabels=labels)\n",
    "ax.set_xlabel('Predicted Class')   \n",
    "ax.set_ylabel('True Class')   \n",
    "ax.xaxis.set_label_position('top')\n",
    "ax.xaxis.tick_top()\n",
    "plt.show()\n",
    "\n",
    "# print classification report\n",
    "report = classification_report(new_y_test, predictions, output_dict=False, target_names=[\"0\", \"1\"],)\n",
    "print(report)"
   ]
  },
  {
   "cell_type": "code",
   "execution_count": null,
   "id": "81f4fdbc",
   "metadata": {},
   "outputs": [],
   "source": []
  }
 ],
 "metadata": {
  "kernelspec": {
   "display_name": "Python 3 (ipykernel)",
   "language": "python",
   "name": "python3"
  },
  "language_info": {
   "codemirror_mode": {
    "name": "ipython",
    "version": 3
   },
   "file_extension": ".py",
   "mimetype": "text/x-python",
   "name": "python",
   "nbconvert_exporter": "python",
   "pygments_lexer": "ipython3",
   "version": "3.8.10"
  }
 },
 "nbformat": 4,
 "nbformat_minor": 5
}
