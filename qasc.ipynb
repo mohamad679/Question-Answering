{
 "cells": [
  {
   "cell_type": "code",
   "execution_count": 1,
   "id": "a9bfd175",
   "metadata": {},
   "outputs": [
    {
     "name": "stderr",
     "output_type": "stream",
     "text": [
      "2023-02-15 15:36:20.996643: I tensorflow/core/platform/cpu_feature_guard.cc:193] This TensorFlow binary is optimized with oneAPI Deep Neural Network Library (oneDNN) to use the following CPU instructions in performance-critical operations:  AVX2 FMA\n",
      "To enable them in other operations, rebuild TensorFlow with the appropriate compiler flags.\n",
      "2023-02-15 15:36:22.537192: W tensorflow/compiler/xla/stream_executor/platform/default/dso_loader.cc:64] Could not load dynamic library 'libnvinfer.so.7'; dlerror: libnvinfer.so.7: cannot open shared object file: No such file or directory; LD_LIBRARY_PATH: /usr/local/cuda/lib64:/usr/local/cuda-11.2/lib64:\n",
      "2023-02-15 15:36:22.537341: W tensorflow/compiler/xla/stream_executor/platform/default/dso_loader.cc:64] Could not load dynamic library 'libnvinfer_plugin.so.7'; dlerror: libnvinfer_plugin.so.7: cannot open shared object file: No such file or directory; LD_LIBRARY_PATH: /usr/local/cuda/lib64:/usr/local/cuda-11.2/lib64:\n",
      "2023-02-15 15:36:22.537352: W tensorflow/compiler/tf2tensorrt/utils/py_utils.cc:38] TF-TRT Warning: Cannot dlopen some TensorRT libraries. If you would like to use Nvidia GPU with TensorRT, please make sure the missing libraries mentioned above are installed properly.\n"
     ]
    }
   ],
   "source": [
    "from transformers import AutoTokenizer, TFAutoModelForSequenceClassification, AdamWeightDecay\n",
    "import pandas as pd\n",
    "import numpy as np\n",
    "import tensorflow as tf\n",
    "from tqdm import tqdm\n",
    "import pickle\n",
    "from sklearn.metrics import confusion_matrix, classification_report\n",
    "import seaborn as sns\n",
    "import matplotlib.pyplot as plt\n",
    "import random\n",
    "import json"
   ]
  },
  {
   "cell_type": "code",
   "execution_count": 2,
   "id": "f2127bb8",
   "metadata": {},
   "outputs": [],
   "source": [
    "def QASCDataset(f, shuffle):\n",
    "    input_format = \"1\"\n",
    "    content, labels = [], []\n",
    "    x = open(f).readlines()\n",
    "    if shuffle:\n",
    "        random.shuffle(x)\n",
    "    for line in x:\n",
    "        instance = json.loads(line)\n",
    "        question = instance[\"question\"][\"stem\"]\n",
    "        choices = [item[\"text\"] for item in instance[\"question\"][\"choices\"]]\n",
    "        if \"answerKey\" in instance:\n",
    "            l = instance[\"answerKey\"]\n",
    "        else:\n",
    "            l = \"A\"\n",
    "        if input_format == \"0\":\n",
    "            for c in choices:\n",
    "                content.append(\"{} {}\".format(question, c))\n",
    "        elif input_format == \"1\":\n",
    "            for c in choices:\n",
    "                content.append(\"{} \\\\n {}\".format(question, c))\n",
    "        elif input_format == \"2\":\n",
    "            for c in choices:\n",
    "                content.append(\"{} {} {}\".format(question, sep_token, c))\n",
    "        answers = [\"A\", \"B\", \"C\", \"D\", \"E\", \"F\", \"G\", \"H\"]\n",
    "        y = [0, 0, 0, 0, 0, 0, 0, 0]\n",
    "        y[answers.index(l)] = 1\n",
    "        labels += y\n",
    "    return content, labels"
   ]
  },
  {
   "cell_type": "code",
   "execution_count": 3,
   "id": "d1c9bb02",
   "metadata": {},
   "outputs": [
    {
     "data": {
      "text/html": [
       "<div>\n",
       "<style scoped>\n",
       "    .dataframe tbody tr th:only-of-type {\n",
       "        vertical-align: middle;\n",
       "    }\n",
       "\n",
       "    .dataframe tbody tr th {\n",
       "        vertical-align: top;\n",
       "    }\n",
       "\n",
       "    .dataframe thead th {\n",
       "        text-align: right;\n",
       "    }\n",
       "</style>\n",
       "<table border=\"1\" class=\"dataframe\">\n",
       "  <thead>\n",
       "    <tr style=\"text-align: right;\">\n",
       "      <th></th>\n",
       "      <th>id</th>\n",
       "      <th>question</th>\n",
       "      <th>answerKey</th>\n",
       "      <th>fact1</th>\n",
       "      <th>fact2</th>\n",
       "      <th>combinedfact</th>\n",
       "      <th>formatted_question</th>\n",
       "    </tr>\n",
       "  </thead>\n",
       "  <tbody>\n",
       "    <tr>\n",
       "      <th>0</th>\n",
       "      <td>3E7TUJ2EGCLQNOV1WEAJ2NN9ROPD9K</td>\n",
       "      <td>{'stem': 'What type of water formation is form...</td>\n",
       "      <td>F</td>\n",
       "      <td>beads of water are formed by water vapor conde...</td>\n",
       "      <td>Clouds are made of water vapor.</td>\n",
       "      <td>Beads of water can be formed by clouds.</td>\n",
       "      <td>What type of water formation is formed by clou...</td>\n",
       "    </tr>\n",
       "    <tr>\n",
       "      <th>1</th>\n",
       "      <td>3LS2AMNW5FPNJK3C3PZLZCPX562OQO</td>\n",
       "      <td>{'stem': 'Where do beads of water come from?',...</td>\n",
       "      <td>E</td>\n",
       "      <td>beads of water are formed by water vapor conde...</td>\n",
       "      <td>Condensation is the change of water vapor to a...</td>\n",
       "      <td>Vapor turning into a liquid leaves behind bead...</td>\n",
       "      <td>Where do beads of water come from? (A) Too muc...</td>\n",
       "    </tr>\n",
       "    <tr>\n",
       "      <th>2</th>\n",
       "      <td>3TMFV4NEP8DPIPCI8H9VUFHJG8V8W3</td>\n",
       "      <td>{'stem': 'What forms beads of water? ', 'choic...</td>\n",
       "      <td>B</td>\n",
       "      <td>beads of water are formed by water vapor conde...</td>\n",
       "      <td>An example of water vapor is steam.</td>\n",
       "      <td>Steam forms beads of water.</td>\n",
       "      <td>What forms beads of water?  (A) Necklaces. (B)...</td>\n",
       "    </tr>\n",
       "    <tr>\n",
       "      <th>3</th>\n",
       "      <td>3KRVW3HTZNKBWXXDID9D28FTU7NSM9</td>\n",
       "      <td>{'stem': 'what kind of beads are formed from v...</td>\n",
       "      <td>C</td>\n",
       "      <td>beads of water are formed by water vapor conde...</td>\n",
       "      <td>Water is made up of H2O molecules.</td>\n",
       "      <td>h2o beads are formed by h2o vapor condensing</td>\n",
       "      <td>what kind of beads are formed from vapor conde...</td>\n",
       "    </tr>\n",
       "    <tr>\n",
       "      <th>4</th>\n",
       "      <td>3TE3O8573079OET7T6QOXPWZ0MHR2T</td>\n",
       "      <td>{'stem': 'what kind of beads are formed by the...</td>\n",
       "      <td>A</td>\n",
       "      <td>beads of water are formed by water vapor conde...</td>\n",
       "      <td>Water is made up of H2O molecules.</td>\n",
       "      <td>beads of h2o are formed by h2o vapor condensing</td>\n",
       "      <td>what kind of beads are formed by their vapor c...</td>\n",
       "    </tr>\n",
       "    <tr>\n",
       "      <th>...</th>\n",
       "      <td>...</td>\n",
       "      <td>...</td>\n",
       "      <td>...</td>\n",
       "      <td>...</td>\n",
       "      <td>...</td>\n",
       "      <td>...</td>\n",
       "      <td>...</td>\n",
       "    </tr>\n",
       "    <tr>\n",
       "      <th>8129</th>\n",
       "      <td>3KAKFY4PGU1LGXM77JAK2700NGCI3X</td>\n",
       "      <td>{'stem': 'Chitin can be used for protection by...</td>\n",
       "      <td>D</td>\n",
       "      <td>scales are used for protection by scaled animals</td>\n",
       "      <td>Fish scales are also composed of chitin.</td>\n",
       "      <td>Chitin can be used for protection by fish.</td>\n",
       "      <td>Chitin can be used for protection by whom? (A)...</td>\n",
       "    </tr>\n",
       "    <tr>\n",
       "      <th>8130</th>\n",
       "      <td>336YQZE83VDAQVZ26HW59X51JZ9M5M</td>\n",
       "      <td>{'stem': 'Which type of animal uses plates for...</td>\n",
       "      <td>B</td>\n",
       "      <td>scales are used for protection by scaled animals</td>\n",
       "      <td>Reptiles have scales or plates.</td>\n",
       "      <td>Reptiles use their plates for protection.</td>\n",
       "      <td>Which type of animal uses plates for protectio...</td>\n",
       "    </tr>\n",
       "    <tr>\n",
       "      <th>8131</th>\n",
       "      <td>3WZ36BJEV3FGS66VGOOUYX0LN8GTBU</td>\n",
       "      <td>{'stem': 'What are used for protection by fish...</td>\n",
       "      <td>A</td>\n",
       "      <td>scales are used for protection by scaled animals</td>\n",
       "      <td>Fish are backboned aquatic animals.</td>\n",
       "      <td>scales are used for protection by fish</td>\n",
       "      <td>What are used for protection by fish? (A) scal...</td>\n",
       "    </tr>\n",
       "    <tr>\n",
       "      <th>8132</th>\n",
       "      <td>3Z2R0DQ0JHDKFAO2706OYIXGNA4E28</td>\n",
       "      <td>{'stem': 'What are pangolins covered in?', 'ch...</td>\n",
       "      <td>G</td>\n",
       "      <td>scales are used for protection by scaled animals</td>\n",
       "      <td>Pangolins have an elongate and tapering body c...</td>\n",
       "      <td>Pangolins are covered in overlapping protection.</td>\n",
       "      <td>What are pangolins covered in? (A) tunicates (...</td>\n",
       "    </tr>\n",
       "    <tr>\n",
       "      <th>8133</th>\n",
       "      <td>3PMBY0YE272GIWPNWIF8IH5RBHVC9S</td>\n",
       "      <td>{'stem': 'What are covered with protection?', ...</td>\n",
       "      <td>H</td>\n",
       "      <td>scales are used for protection by scaled animals</td>\n",
       "      <td>Fish are covered with scales.</td>\n",
       "      <td>Fish are covered with protection</td>\n",
       "      <td>What are covered with protection? (A) apples (...</td>\n",
       "    </tr>\n",
       "  </tbody>\n",
       "</table>\n",
       "<p>8134 rows × 7 columns</p>\n",
       "</div>"
      ],
      "text/plain": [
       "                                  id  \\\n",
       "0     3E7TUJ2EGCLQNOV1WEAJ2NN9ROPD9K   \n",
       "1     3LS2AMNW5FPNJK3C3PZLZCPX562OQO   \n",
       "2     3TMFV4NEP8DPIPCI8H9VUFHJG8V8W3   \n",
       "3     3KRVW3HTZNKBWXXDID9D28FTU7NSM9   \n",
       "4     3TE3O8573079OET7T6QOXPWZ0MHR2T   \n",
       "...                              ...   \n",
       "8129  3KAKFY4PGU1LGXM77JAK2700NGCI3X   \n",
       "8130  336YQZE83VDAQVZ26HW59X51JZ9M5M   \n",
       "8131  3WZ36BJEV3FGS66VGOOUYX0LN8GTBU   \n",
       "8132  3Z2R0DQ0JHDKFAO2706OYIXGNA4E28   \n",
       "8133  3PMBY0YE272GIWPNWIF8IH5RBHVC9S   \n",
       "\n",
       "                                               question answerKey  \\\n",
       "0     {'stem': 'What type of water formation is form...         F   \n",
       "1     {'stem': 'Where do beads of water come from?',...         E   \n",
       "2     {'stem': 'What forms beads of water? ', 'choic...         B   \n",
       "3     {'stem': 'what kind of beads are formed from v...         C   \n",
       "4     {'stem': 'what kind of beads are formed by the...         A   \n",
       "...                                                 ...       ...   \n",
       "8129  {'stem': 'Chitin can be used for protection by...         D   \n",
       "8130  {'stem': 'Which type of animal uses plates for...         B   \n",
       "8131  {'stem': 'What are used for protection by fish...         A   \n",
       "8132  {'stem': 'What are pangolins covered in?', 'ch...         G   \n",
       "8133  {'stem': 'What are covered with protection?', ...         H   \n",
       "\n",
       "                                                  fact1  \\\n",
       "0     beads of water are formed by water vapor conde...   \n",
       "1     beads of water are formed by water vapor conde...   \n",
       "2     beads of water are formed by water vapor conde...   \n",
       "3     beads of water are formed by water vapor conde...   \n",
       "4     beads of water are formed by water vapor conde...   \n",
       "...                                                 ...   \n",
       "8129   scales are used for protection by scaled animals   \n",
       "8130   scales are used for protection by scaled animals   \n",
       "8131   scales are used for protection by scaled animals   \n",
       "8132   scales are used for protection by scaled animals   \n",
       "8133   scales are used for protection by scaled animals   \n",
       "\n",
       "                                                  fact2  \\\n",
       "0                       Clouds are made of water vapor.   \n",
       "1     Condensation is the change of water vapor to a...   \n",
       "2                   An example of water vapor is steam.   \n",
       "3                    Water is made up of H2O molecules.   \n",
       "4                    Water is made up of H2O molecules.   \n",
       "...                                                 ...   \n",
       "8129           Fish scales are also composed of chitin.   \n",
       "8130                    Reptiles have scales or plates.   \n",
       "8131                Fish are backboned aquatic animals.   \n",
       "8132  Pangolins have an elongate and tapering body c...   \n",
       "8133                      Fish are covered with scales.   \n",
       "\n",
       "                                           combinedfact  \\\n",
       "0               Beads of water can be formed by clouds.   \n",
       "1     Vapor turning into a liquid leaves behind bead...   \n",
       "2                           Steam forms beads of water.   \n",
       "3          h2o beads are formed by h2o vapor condensing   \n",
       "4       beads of h2o are formed by h2o vapor condensing   \n",
       "...                                                 ...   \n",
       "8129         Chitin can be used for protection by fish.   \n",
       "8130          Reptiles use their plates for protection.   \n",
       "8131            scales are used for protection by fish    \n",
       "8132   Pangolins are covered in overlapping protection.   \n",
       "8133                   Fish are covered with protection   \n",
       "\n",
       "                                     formatted_question  \n",
       "0     What type of water formation is formed by clou...  \n",
       "1     Where do beads of water come from? (A) Too muc...  \n",
       "2     What forms beads of water?  (A) Necklaces. (B)...  \n",
       "3     what kind of beads are formed from vapor conde...  \n",
       "4     what kind of beads are formed by their vapor c...  \n",
       "...                                                 ...  \n",
       "8129  Chitin can be used for protection by whom? (A)...  \n",
       "8130  Which type of animal uses plates for protectio...  \n",
       "8131  What are used for protection by fish? (A) scal...  \n",
       "8132  What are pangolins covered in? (A) tunicates (...  \n",
       "8133  What are covered with protection? (A) apples (...  \n",
       "\n",
       "[8134 rows x 7 columns]"
      ]
     },
     "execution_count": 3,
     "metadata": {},
     "output_type": "execute_result"
    }
   ],
   "source": [
    "df = pd.read_json('./data/qasc/train.jsonl', lines=True)\n",
    "df"
   ]
  },
  {
   "cell_type": "code",
   "execution_count": 4,
   "id": "7172058a",
   "metadata": {},
   "outputs": [],
   "source": [
    "train_data, train_label = QASCDataset('./data/qasc/train.jsonl', True)\n",
    "test_data, test_label = QASCDataset('./data/qasc/test.jsonl', False)\n"
   ]
  },
  {
   "cell_type": "code",
   "execution_count": 5,
   "id": "67e0e50e",
   "metadata": {},
   "outputs": [],
   "source": [
    "flag = False\n",
    "new_train_data = list()\n",
    "new_train_label = list()\n",
    "\n",
    "for i in range(len(train_label)):\n",
    "    if train_label[i] == 0 and flag == True:\n",
    "        new_train_data.append(train_data[i])\n",
    "        new_train_label.append(train_label[i])\n",
    "        flag = False\n",
    "    elif train_label[i] == 1:\n",
    "        new_train_data.append(train_data[i])\n",
    "        new_train_label.append(train_label[i])\n",
    "        flag = True"
   ]
  },
  {
   "cell_type": "code",
   "execution_count": 6,
   "id": "686ed5f2",
   "metadata": {},
   "outputs": [],
   "source": [
    "train_data = new_train_data\n",
    "train_label = new_train_label"
   ]
  },
  {
   "cell_type": "code",
   "execution_count": 7,
   "id": "d710bfb8",
   "metadata": {},
   "outputs": [
    {
     "name": "stderr",
     "output_type": "stream",
     "text": [
      "2023-02-14 22:31:28.767734: I tensorflow/compiler/xla/stream_executor/cuda/cuda_gpu_executor.cc:981] successful NUMA node read from SysFS had negative value (-1), but there must be at least one NUMA node, so returning NUMA node zero\n",
      "2023-02-14 22:31:28.865891: I tensorflow/compiler/xla/stream_executor/cuda/cuda_gpu_executor.cc:981] successful NUMA node read from SysFS had negative value (-1), but there must be at least one NUMA node, so returning NUMA node zero\n",
      "2023-02-14 22:31:28.867663: I tensorflow/compiler/xla/stream_executor/cuda/cuda_gpu_executor.cc:981] successful NUMA node read from SysFS had negative value (-1), but there must be at least one NUMA node, so returning NUMA node zero\n",
      "2023-02-14 22:31:28.871073: I tensorflow/core/platform/cpu_feature_guard.cc:193] This TensorFlow binary is optimized with oneAPI Deep Neural Network Library (oneDNN) to use the following CPU instructions in performance-critical operations:  AVX2 FMA\n",
      "To enable them in other operations, rebuild TensorFlow with the appropriate compiler flags.\n",
      "2023-02-14 22:31:28.872462: I tensorflow/compiler/xla/stream_executor/cuda/cuda_gpu_executor.cc:981] successful NUMA node read from SysFS had negative value (-1), but there must be at least one NUMA node, so returning NUMA node zero\n",
      "2023-02-14 22:31:28.874021: I tensorflow/compiler/xla/stream_executor/cuda/cuda_gpu_executor.cc:981] successful NUMA node read from SysFS had negative value (-1), but there must be at least one NUMA node, so returning NUMA node zero\n",
      "2023-02-14 22:31:28.875350: I tensorflow/compiler/xla/stream_executor/cuda/cuda_gpu_executor.cc:981] successful NUMA node read from SysFS had negative value (-1), but there must be at least one NUMA node, so returning NUMA node zero\n",
      "2023-02-14 22:31:30.525977: I tensorflow/compiler/xla/stream_executor/cuda/cuda_gpu_executor.cc:981] successful NUMA node read from SysFS had negative value (-1), but there must be at least one NUMA node, so returning NUMA node zero\n",
      "2023-02-14 22:31:30.528106: I tensorflow/compiler/xla/stream_executor/cuda/cuda_gpu_executor.cc:981] successful NUMA node read from SysFS had negative value (-1), but there must be at least one NUMA node, so returning NUMA node zero\n",
      "2023-02-14 22:31:30.528967: I tensorflow/compiler/xla/stream_executor/cuda/cuda_gpu_executor.cc:981] successful NUMA node read from SysFS had negative value (-1), but there must be at least one NUMA node, so returning NUMA node zero\n",
      "2023-02-14 22:31:30.530431: I tensorflow/core/common_runtime/gpu/gpu_device.cc:1613] Created device /job:localhost/replica:0/task:0/device:GPU:0 with 3380 MB memory:  -> device: 0, name: GeForce 930MX, pci bus id: 0000:01:00.0, compute capability: 5.0\n",
      "All model checkpoint layers were used when initializing TFDebertaForSequenceClassification.\n",
      "\n",
      "Some layers of TFDebertaForSequenceClassification were not initialized from the model checkpoint at microsoft/deberta-base and are newly initialized: ['cls_dropout', 'pooler', 'classifier']\n",
      "You should probably TRAIN this model on a down-stream task to be able to use it for predictions and inference.\n"
     ]
    }
   ],
   "source": [
    "MDL_PATH = \"microsoft/deberta-base\"\n",
    "MAX_LEN = 40\n",
    "NUM_EPOCHS = 10\n",
    "batch_size=8\n",
    "LR = 1e-5\n",
    "tokenizer = AutoTokenizer.from_pretrained(MDL_PATH)\n",
    "deberta = TFAutoModelForSequenceClassification.from_pretrained(MDL_PATH)"
   ]
  },
  {
   "cell_type": "code",
   "execution_count": 8,
   "id": "ef698eba",
   "metadata": {},
   "outputs": [],
   "source": [
    "def tokenize(df):\n",
    "    input_ids =  []\n",
    "    attention_masks =  []\n",
    "    for i, text in enumerate(df):\n",
    "        tokens = tokenizer.encode_plus(text, max_length=MAX_LEN,\n",
    "                                   truncation=True, padding='max_length',\n",
    "                                   add_special_tokens=True, return_attention_mask=True,\n",
    "                                   return_token_type_ids=False, return_tensors='tf')          \n",
    "        input_ids.append(np.asarray(tokens[\"input_ids\"]).reshape(MAX_LEN,))\n",
    "        attention_masks.append(np.asarray(tokens[\"attention_mask\"]).reshape(MAX_LEN,))\n",
    "    return (np.asarray(input_ids), np.asarray(attention_masks))\n",
    "\n",
    "\n",
    "def indices_to_one_hot(data, nb_classes):\n",
    "    targets = np.array(data).reshape(-1)\n",
    "    return np.eye(nb_classes)[targets]"
   ]
  },
  {
   "cell_type": "code",
   "execution_count": 9,
   "id": "801be94b",
   "metadata": {},
   "outputs": [],
   "source": [
    "train_input_ids, train_attention_masks = tokenize(train_data)\n",
    "y_train = indices_to_one_hot(train_label, 2)"
   ]
  },
  {
   "cell_type": "code",
   "execution_count": 10,
   "id": "8b232735",
   "metadata": {},
   "outputs": [
    {
     "name": "stdout",
     "output_type": "stream",
     "text": [
      "WARNING:tensorflow:From /home/roshan/.local/lib/python3.8/site-packages/tensorflow/python/autograph/pyct/static_analysis/liveness.py:83: Analyzer.lamba_check (from tensorflow.python.autograph.pyct.static_analysis.liveness) is deprecated and will be removed after 2023-09-23.\n",
      "Instructions for updating:\n",
      "Lambda fuctions will be no more assumed to be used in the statement where they are used, or at least in the same block. https://github.com/tensorflow/tensorflow/issues/56089\n",
      "Model: \"model\"\n",
      "__________________________________________________________________________________________________\n",
      " Layer (type)                   Output Shape         Param #     Connected to                     \n",
      "==================================================================================================\n",
      " input_ids (InputLayer)         [(None, 40)]         0           []                               \n",
      "                                                                                                  \n",
      " attention_mask (InputLayer)    [(None, 40)]         0           []                               \n",
      "                                                                                                  \n",
      " tf_deberta_for_sequence_classi  TFSequenceClassifie  139193858  ['input_ids[0][0]',              \n",
      " fication (TFDebertaForSequence  rOutput(loss=None,               'attention_mask[0][0]']         \n",
      " Classification)                logits=(None, 2),                                                 \n",
      "                                 hidden_states=None                                               \n",
      "                                , attentions=None)                                                \n",
      "                                                                                                  \n",
      " h1 (Dense)                     (None, 750)          2250        ['tf_deberta_for_sequence_classif\n",
      "                                                                 ication[0][0]']                  \n",
      "                                                                                                  \n",
      " dropout (Dropout)              (None, 750)          0           ['h1[0][0]']                     \n",
      "                                                                                                  \n",
      " h2 (Dense)                     (None, 150)          112650      ['dropout[0][0]']                \n",
      "                                                                                                  \n",
      " outputs (Dense)                (None, 1)            302         ['h2[0][0]']                     \n",
      "                                                                                                  \n",
      "==================================================================================================\n",
      "Total params: 139,309,060\n",
      "Trainable params: 115,202\n",
      "Non-trainable params: 139,193,858\n",
      "__________________________________________________________________________________________________\n"
     ]
    }
   ],
   "source": [
    "input_ids = tf.keras.layers.Input(shape=(MAX_LEN,), name='input_ids', dtype='int32')\n",
    "mask = tf.keras.layers.Input(shape=(MAX_LEN,), name='attention_mask', dtype='int32')\n",
    "\n",
    "x = deberta(input_ids, attention_mask=mask)[0]\n",
    "\n",
    "x = tf.keras.layers.Dense(750, activation='relu', name='h1')(x)\n",
    "x = tf.keras.layers.Dropout(0.1)(x)\n",
    "x = tf.keras.layers.Dense(150, activation='relu', name='h2')(x)\n",
    "\n",
    "y = tf.keras.layers.Dense(1, name='outputs')(x)\n",
    "\n",
    "model = tf.keras.Model(inputs=[input_ids, mask], outputs=y)\n",
    "model.layers[2].trainable = False\n",
    "model.summary()"
   ]
  },
  {
   "cell_type": "code",
   "execution_count": 11,
   "id": "4b0ac82e",
   "metadata": {},
   "outputs": [],
   "source": [
    "Metrics = [\n",
    "    tf.keras.metrics.BinaryAccuracy(name='accuracy'),\n",
    "    tf.keras.metrics.Precision(name='percision'),\n",
    "    tf.keras.metrics.Recall(name='recall')\n",
    "]\n",
    "model.compile(optimizer = tf.keras.optimizers.Adam(learning_rate=LR), loss = \"mse\", metrics=Metrics)"
   ]
  },
  {
   "cell_type": "code",
   "execution_count": 13,
   "id": "d7aaab10",
   "metadata": {},
   "outputs": [
    {
     "name": "stdout",
     "output_type": "stream",
     "text": [
      "Epoch 1/5\n",
      "WARNING:tensorflow:From /usr/local/lib/python3.8/dist-packages/transformers/models/deberta/modeling_tf_deberta.py:122: Bernoulli.__init__ (from tensorflow.python.ops.distributions.bernoulli) is deprecated and will be removed after 2019-01-01.\n",
      "Instructions for updating:\n",
      "The TensorFlow Distributions library has moved to TensorFlow Probability (https://github.com/tensorflow/probability). You should update all references to use `tfp.distributions` instead of `tf.distributions`.\n",
      "WARNING:tensorflow:From /home/roshan/.local/lib/python3.8/site-packages/tensorflow/python/ops/distributions/bernoulli.py:86: Distribution.__init__ (from tensorflow.python.ops.distributions.distribution) is deprecated and will be removed after 2019-01-01.\n",
      "Instructions for updating:\n",
      "The TensorFlow Distributions library has moved to TensorFlow Probability (https://github.com/tensorflow/probability). You should update all references to use `tfp.distributions` instead of `tf.distributions`.\n"
     ]
    },
    {
     "name": "stderr",
     "output_type": "stream",
     "text": [
      "2023-02-14 22:32:55.722835: I tensorflow/compiler/xla/service/service.cc:173] XLA service 0x299084e0 initialized for platform CUDA (this does not guarantee that XLA will be used). Devices:\n",
      "2023-02-14 22:32:55.722944: I tensorflow/compiler/xla/service/service.cc:181]   StreamExecutor device (0): GeForce 930MX, Compute Capability 5.0\n",
      "2023-02-14 22:32:55.798857: I tensorflow/compiler/mlir/tensorflow/utils/dump_mlir_util.cc:268] disabling MLIR crash reproducer, set env var `MLIR_CRASH_REPRODUCER_DIRECTORY` to enable.\n",
      "2023-02-14 22:32:56.218397: I tensorflow/tsl/platform/default/subprocess.cc:304] Start cannot spawn child process: No such file or directory\n",
      "2023-02-14 22:32:56.369406: I tensorflow/compiler/jit/xla_compilation_cache.cc:477] Compiled cluster using XLA!  This line is logged at most once for the lifetime of the process.\n"
     ]
    },
    {
     "name": "stdout",
     "output_type": "stream",
     "text": [
      "651/651 [==============================] - 2229s 3s/step - loss: 0.2086 - accuracy: 0.8647 - percision: 0.8647 - recall: 0.8647\n",
      "Epoch 2/5\n",
      "651/651 [==============================] - 2194s 3s/step - loss: 0.1275 - accuracy: 0.8750 - percision: 0.8750 - recall: 0.8750\n",
      "Epoch 3/5\n",
      "651/651 [==============================] - 2199s 3s/step - loss: 0.1103 - accuracy: 0.8750 - percision: 0.8750 - recall: 0.8750\n",
      "Epoch 4/5\n",
      "651/651 [==============================] - 2202s 3s/step - loss: 0.1095 - accuracy: 0.8750 - percision: 0.8750 - recall: 0.8750\n",
      "Epoch 5/5\n",
      "651/651 [==============================] - 2201s 3s/step - loss: 0.1095 - accuracy: 0.8750 - percision: 0.8750 - recall: 0.8750\n"
     ]
    }
   ],
   "source": [
    "history = model.fit((train_input_ids, train_attention_masks), \n",
    "                    y_train,\n",
    "                    batch_size = 100,\n",
    "                    epochs=5)\n"
   ]
  },
  {
   "cell_type": "code",
   "execution_count": 14,
   "id": "275df497",
   "metadata": {},
   "outputs": [],
   "source": [
    "# save model\n",
    "model.save('./model/my_model_qasc.h5')"
   ]
  },
  {
   "cell_type": "code",
   "execution_count": null,
   "id": "46a77004",
   "metadata": {},
   "outputs": [],
   "source": [
    "from tensorflow.keras.models import load_model\n",
    "from keras.utils import CustomObjectScope\n",
    "import transformers\n",
    "\n",
    "\n",
    "model = load_model('./model/my_model_qasc.h5' , custom_objects={\"TFDebertaForSequenceClassification\": transformers.TFDebertaForSequenceClassification})"
   ]
  },
  {
   "cell_type": "code",
   "execution_count": 16,
   "id": "50d64933",
   "metadata": {},
   "outputs": [],
   "source": [
    "test_input_ids, test_attention_masks = tokenize(test_data)\n",
    "y_test = indices_to_one_hot(test_label, 2)\n"
   ]
  },
  {
   "cell_type": "code",
   "execution_count": 17,
   "id": "6b875e38",
   "metadata": {},
   "outputs": [
    {
     "name": "stdout",
     "output_type": "stream",
     "text": [
      "230/230 [==============================] - 172s 726ms/step\n"
     ]
    }
   ],
   "source": [
    "test_preds = model.predict((np.asarray(test_input_ids),\n",
    "                            np.asarray(test_attention_masks)))"
   ]
  },
  {
   "cell_type": "code",
   "execution_count": 18,
   "id": "0a86549a",
   "metadata": {},
   "outputs": [],
   "source": [
    "predictions = list()\n",
    "for i in test_preds:\n",
    "    predictions.append(np.argmax(i))\n",
    "new_y_test = list()\n",
    "for i in y_test:\n",
    "    new_y_test.append(np.argmax(i))"
   ]
  },
  {
   "cell_type": "code",
   "execution_count": 19,
   "id": "5dca326d",
   "metadata": {},
   "outputs": [
    {
     "data": {
      "image/png": "[encoded data removed]",
      "text/plain": [
       "<Figure size 640x480 with 2 Axes>"
      ]
     },
     "metadata": {},
     "output_type": "display_data"
    },
    {
     "name": "stdout",
     "output_type": "stream",
     "text": [
      "              precision    recall  f1-score   support\n",
      "\n",
      "           0       0.88      1.00      0.93      6440\n",
      "           1       0.00      0.00      0.00       920\n",
      "\n",
      "    accuracy                           0.88      7360\n",
      "   macro avg       0.44      0.50      0.47      7360\n",
      "weighted avg       0.77      0.88      0.82      7360\n",
      "\n"
     ]
    },
    {
     "name": "stderr",
     "output_type": "stream",
     "text": [
      "/home/roshan/.local/lib/python3.8/site-packages/sklearn/metrics/_classification.py:1334: UndefinedMetricWarning: Precision and F-score are ill-defined and being set to 0.0 in labels with no predicted samples. Use `zero_division` parameter to control this behavior.\n",
      "  _warn_prf(average, modifier, msg_start, len(result))\n",
      "/home/roshan/.local/lib/python3.8/site-packages/sklearn/metrics/_classification.py:1334: UndefinedMetricWarning: Precision and F-score are ill-defined and being set to 0.0 in labels with no predicted samples. Use `zero_division` parameter to control this behavior.\n",
      "  _warn_prf(average, modifier, msg_start, len(result))\n",
      "/home/roshan/.local/lib/python3.8/site-packages/sklearn/metrics/_classification.py:1334: UndefinedMetricWarning: Precision and F-score are ill-defined and being set to 0.0 in labels with no predicted samples. Use `zero_division` parameter to control this behavior.\n",
      "  _warn_prf(average, modifier, msg_start, len(result))\n"
     ]
    }
   ],
   "source": [
    "confusion = confusion_matrix(new_y_test, predictions)\n",
    "\n",
    "# plot confusion matrix\n",
    "sns.set(font_scale=1.0)\n",
    "labels = [0, 1]\n",
    "ax = sns.heatmap(confusion, annot=True, annot_kws={\"size\": 11}, fmt='d', vmin = 0, cmap='Blues', yticklabels=labels, xticklabels=labels)\n",
    "ax.set_xlabel('Predicted Class')   \n",
    "ax.set_ylabel('True Class')   \n",
    "ax.xaxis.set_label_position('top')\n",
    "ax.xaxis.tick_top()\n",
    "plt.show()\n",
    "\n",
    "# print classification report\n",
    "report = classification_report(new_y_test, predictions, output_dict=False, target_names=[\"0\", \"1\"],)\n",
    "print(report)"
   ]
  },
  {
   "cell_type": "code",
   "execution_count": null,
   "id": "7d48a71e",
   "metadata": {},
   "outputs": [],
   "source": []
  }
 ],
 "metadata": {
  "kernelspec": {
   "display_name": "Python 3 (ipykernel)",
   "language": "python",
   "name": "python3"
  },
  "language_info": {
   "codemirror_mode": {
    "name": "ipython",
    "version": 3
   },
   "file_extension": ".py",
   "mimetype": "text/x-python",
   "name": "python",
   "nbconvert_exporter": "python",
   "pygments_lexer": "ipython3",
   "version": "3.8.10"
  }
 },
 "nbformat": 4,
 "nbformat_minor": 5
}
